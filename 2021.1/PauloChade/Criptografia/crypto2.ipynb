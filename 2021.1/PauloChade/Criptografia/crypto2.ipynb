{
 "cells": [
  {
   "cell_type": "code",
   "execution_count": 38,
   "id": "lesbian-transfer",
   "metadata": {},
   "outputs": [
    {
     "name": "stdout",
     "output_type": "stream",
     "text": [
      "19906\n"
     ]
    }
   ],
   "source": [
    "#SubTask1\n",
    "resposta1 = pow(101,17,22663)\n",
    "print(resposta1)"
   ]
  },
  {
   "cell_type": "code",
   "execution_count": 39,
   "id": "conventional-borough",
   "metadata": {},
   "outputs": [
    {
     "name": "stdout",
     "output_type": "stream",
     "text": [
      "301\n"
     ]
    }
   ],
   "source": [
    "#SubTask2\n",
    "p = 17\n",
    "q = 23\n",
    "resposta2 = pow(12, 65537, p*q)\n",
    "print(resposta2)"
   ]
  },
  {
   "cell_type": "code",
   "execution_count": 40,
   "id": "intelligent-finder",
   "metadata": {},
   "outputs": [
    {
     "name": "stdout",
     "output_type": "stream",
     "text": [
      "882564595536224140639625987657529300394956519977044270821168\n"
     ]
    }
   ],
   "source": [
    "#SubTask3\n",
    "p = 857504083339712752489993810777\n",
    "q = 1029224947942998075080348647219\n",
    "resposta3 = (p-1) * (q-1)\n",
    "print(resposta3)"
   ]
  },
  {
   "cell_type": "code",
   "execution_count": 41,
   "id": "expected-monkey",
   "metadata": {},
   "outputs": [
    {
     "name": "stdout",
     "output_type": "stream",
     "text": [
      "121832886702415731577073962957377780195510499965398469843281\n"
     ]
    }
   ],
   "source": [
    "#SubTask4 p e q iguais\n",
    "resposta4 = pow(65537, -1, resposta3)\n",
    "print(resposta4)"
   ]
  },
  {
   "cell_type": "code",
   "execution_count": 42,
   "id": "approximate-tongue",
   "metadata": {},
   "outputs": [
    {
     "name": "stdout",
     "output_type": "stream",
     "text": [
      "13371337\n"
     ]
    }
   ],
   "source": [
    "#SubTask5\n",
    "N = 882564595536224140639625987659416029426239230804614613279163\n",
    "e = 65537\n",
    "c = 77578995801157823671636298847186723593814843845525223303932\n",
    "resposta5 = pow(c, resposta4, N)\n",
    "print(resposta5)"
   ]
  },
  {
   "cell_type": "code",
   "execution_count": 48,
   "id": "irish-mouth",
   "metadata": {},
   "outputs": [],
   "source": [
    "from hashlib import sha256"
   ]
  },
  {
   "cell_type": "code",
   "execution_count": 49,
   "id": "cross-tamil",
   "metadata": {},
   "outputs": [],
   "source": [
    "N = 15216583654836731327639981224133918855895948374072384050848479908982286890731769486609085918857664046075375253168955058743185664390273058074450390236774324903305663479046566232967297765731625328029814055635316002591227570271271445226094919864475407884459980489638001092788574811554149774028950310695112688723853763743238753349782508121985338746755237819373178699343135091783992299561827389745132880022259873387524273298850340648779897909381979714026837172003953221052431217940632552930880000919436507245150726543040714721553361063311954285289857582079880295199632757829525723874753306371990452491305564061051059885803\n",
    "d = 11175901210643014262548222473449533091378848269490518850474399681690547281665059317155831692300453197335735728459259392366823302405685389586883670043744683993709123180805154631088513521456979317628012721881537154107239389466063136007337120599915456659758559300673444689263854921332185562706707573660658164991098457874495054854491474065039621922972671588299315846306069845169959451250821044417886630346229021305410340100401530146135418806544340908355106582089082980533651095594192031411679866134256418292249592135441145384466261279428795408721990564658703903787956958168449841491667690491585550160457893350536334242689"
   ]
  },
  {
   "cell_type": "code",
   "execution_count": 50,
   "id": "aware-hurricane",
   "metadata": {},
   "outputs": [
    {
     "data": {
      "text/plain": [
       "69523276807549773371481917516452638375664281433555793080445569568100703974091"
      ]
     },
     "execution_count": 50,
     "metadata": {},
     "output_type": "execute_result"
    }
   ],
   "source": [
    "M = \"crypto{Immut4ble_m3ssag1ng}\"\n",
    "HM1 = sha256(M.encode())\n",
    "HM= HM1.hexdigest()\n",
    "int(HM, 16)"
   ]
  },
  {
   "cell_type": "code",
   "execution_count": 51,
   "id": "editorial-parcel",
   "metadata": {},
   "outputs": [
    {
     "name": "stdout",
     "output_type": "stream",
     "text": [
      "0x6ac9bb8f110b318a40ad8d7e57defdcce2652f5928b5f9b97c1504d7096d7af1d34e477b30f1a08014e8d525b14458b709a77a5fa67d4711bd19da1446f9fb0ffd9fdedc4101bdc9a4b26dd036f11d02f6b56f4926170c643f302d59c4fe8ea678b3ca91b4bb9b2024f2a839bec1514c0242b57e1f5e77999ee67c450982730252bc2c3c35acb4ac06a6ce8b9dbf84e29df0baa7369e0fd26f6dfcfb22a464e05c5b72baba8f78dc742e96542169710918ee2947749477869cb3567180ccbdfe6fdbe85bcaca4bf6da77c8f382bb4c8cd56dee43d1290ca856318c97f1756b789e3cac0c9738f5e9f797314d39a2ededb92583d97124ec6b313c4ea3464037d3\n"
     ]
    }
   ],
   "source": [
    "resposta5 = pow(int(HM, 16), d, N)\n",
    "print(hex(resposta5))"
   ]
  },
  {
   "cell_type": "code",
   "execution_count": null,
   "id": "operational-subscriber",
   "metadata": {},
   "outputs": [],
   "source": []
  }
 ],
 "metadata": {
  "kernelspec": {
   "display_name": "Python 3",
   "language": "python",
   "name": "python3"
  },
  "language_info": {
   "codemirror_mode": {
    "name": "ipython",
    "version": 3
   },
   "file_extension": ".py",
   "mimetype": "text/x-python",
   "name": "python",
   "nbconvert_exporter": "python",
   "pygments_lexer": "ipython3",
   "version": "3.8.5"
  }
 },
 "nbformat": 4,
 "nbformat_minor": 5
}
