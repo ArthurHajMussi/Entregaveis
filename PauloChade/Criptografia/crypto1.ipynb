{
 "cells": [
  {
   "cell_type": "code",
   "execution_count": 1,
   "id": "productive-reconstruction",
   "metadata": {},
   "outputs": [],
   "source": [
    "from ellipticcurve.ecdsa import Ecdsa\n",
    "from ellipticcurve.privateKey import PrivateKey"
   ]
  },
  {
   "cell_type": "code",
   "execution_count": 10,
   "id": "first-deployment",
   "metadata": {},
   "outputs": [],
   "source": [
    "privateKey = PrivateKey()\n",
    "publicKey = privateKey.publicKey()"
   ]
  },
  {
   "cell_type": "code",
   "execution_count": 11,
   "id": "received-convergence",
   "metadata": {},
   "outputs": [],
   "source": [
    "mensagem = \"Blockchain Insper\""
   ]
  },
  {
   "cell_type": "code",
   "execution_count": 12,
   "id": "spread-yellow",
   "metadata": {},
   "outputs": [],
   "source": [
    "signature = Ecdsa.sign(mensagem, privateKey)"
   ]
  },
  {
   "cell_type": "code",
   "execution_count": 13,
   "id": "veterinary-invasion",
   "metadata": {},
   "outputs": [
    {
     "name": "stdout",
     "output_type": "stream",
     "text": [
      "True\n"
     ]
    }
   ],
   "source": [
    "print(Ecdsa.verify(mensagem, signature, publicKey))"
   ]
  }
 ],
 "metadata": {
  "kernelspec": {
   "display_name": "Python 3",
   "language": "python",
   "name": "python3"
  },
  "language_info": {
   "codemirror_mode": {
    "name": "ipython",
    "version": 3
   },
   "file_extension": ".py",
   "mimetype": "text/x-python",
   "name": "python",
   "nbconvert_exporter": "python",
   "pygments_lexer": "ipython3",
   "version": "3.8.5"
  }
 },
 "nbformat": 4,
 "nbformat_minor": 5
}
